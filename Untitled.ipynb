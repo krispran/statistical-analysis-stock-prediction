{
 "cells": [
  {
   "cell_type": "code",
   "execution_count": 2,
   "metadata": {
    "collapsed": true
   },
   "outputs": [],
   "source": [
    "import pandas as pd\n",
    "import numpy as np\n",
    "import matplotlib.pyplot as plt\n",
    "%matplotlib inline"
   ]
  },
  {
   "cell_type": "code",
   "execution_count": 10,
   "metadata": {},
   "outputs": [
    {
     "data": {
      "text/html": [
       "<div>\n",
       "<table border=\"1\" class=\"dataframe\">\n",
       "  <thead>\n",
       "    <tr style=\"text-align: right;\">\n",
       "      <th></th>\n",
       "      <th>Open</th>\n",
       "      <th>High</th>\n",
       "      <th>Low</th>\n",
       "      <th>Close</th>\n",
       "      <th>Adj Close</th>\n",
       "      <th>Volume</th>\n",
       "    </tr>\n",
       "    <tr>\n",
       "      <th>Date</th>\n",
       "      <th></th>\n",
       "      <th></th>\n",
       "      <th></th>\n",
       "      <th></th>\n",
       "      <th></th>\n",
       "      <th></th>\n",
       "    </tr>\n",
       "  </thead>\n",
       "  <tbody>\n",
       "    <tr>\n",
       "      <th>2014-12-31</th>\n",
       "      <td>46.730000</td>\n",
       "      <td>47.439999</td>\n",
       "      <td>46.450001</td>\n",
       "      <td>46.450001</td>\n",
       "      <td>42.848763</td>\n",
       "      <td>21552500</td>\n",
       "    </tr>\n",
       "    <tr>\n",
       "      <th>2015-01-02</th>\n",
       "      <td>46.660000</td>\n",
       "      <td>47.419998</td>\n",
       "      <td>46.540001</td>\n",
       "      <td>46.759998</td>\n",
       "      <td>43.134731</td>\n",
       "      <td>27913900</td>\n",
       "    </tr>\n",
       "    <tr>\n",
       "      <th>2015-01-05</th>\n",
       "      <td>46.369999</td>\n",
       "      <td>46.730000</td>\n",
       "      <td>46.250000</td>\n",
       "      <td>46.330002</td>\n",
       "      <td>42.738068</td>\n",
       "      <td>39673900</td>\n",
       "    </tr>\n",
       "    <tr>\n",
       "      <th>2015-01-06</th>\n",
       "      <td>46.380001</td>\n",
       "      <td>46.750000</td>\n",
       "      <td>45.540001</td>\n",
       "      <td>45.650002</td>\n",
       "      <td>42.110783</td>\n",
       "      <td>36447900</td>\n",
       "    </tr>\n",
       "    <tr>\n",
       "      <th>2015-01-07</th>\n",
       "      <td>45.980000</td>\n",
       "      <td>46.459999</td>\n",
       "      <td>45.490002</td>\n",
       "      <td>46.230000</td>\n",
       "      <td>42.645817</td>\n",
       "      <td>29114100</td>\n",
       "    </tr>\n",
       "  </tbody>\n",
       "</table>\n",
       "</div>"
      ],
      "text/plain": [
       "                 Open       High        Low      Close  Adj Close    Volume\n",
       "Date                                                                       \n",
       "2014-12-31  46.730000  47.439999  46.450001  46.450001  42.848763  21552500\n",
       "2015-01-02  46.660000  47.419998  46.540001  46.759998  43.134731  27913900\n",
       "2015-01-05  46.369999  46.730000  46.250000  46.330002  42.738068  39673900\n",
       "2015-01-06  46.380001  46.750000  45.540001  45.650002  42.110783  36447900\n",
       "2015-01-07  45.980000  46.459999  45.490002  46.230000  42.645817  29114100"
      ]
     },
     "execution_count": 10,
     "metadata": {},
     "output_type": "execute_result"
    }
   ],
   "source": [
    "ms = pd.DataFrame.from_csv('../data/microsoft.csv')\n",
    "ms.head()"
   ]
  },
  {
   "cell_type": "code",
   "execution_count": 13,
   "metadata": {},
   "outputs": [
    {
     "data": {
      "image/png": "[encoded data removed]",
      "text/plain": [
       "<matplotlib.figure.Figure at 0x7fc9c3355d68>"
      ]
     },
     "metadata": {},
     "output_type": "display_data"
    }
   ],
   "source": [
    "ms['LogReturn'] = np.log(ms['Close']).shift(-1) - np.log(ms['Close'])\n",
    "\n",
    "from scipy.stats import norm\n",
    "mu = ms['LogReturn'].mean()\n",
    "sigma = ms['LogReturn'].std(ddof=1)\n",
    "\n",
    "density = pd.DataFrame()\n",
    "density['x'] = np.arange(ms['LogReturn'].min()-0.01, ms['LogReturn'].max()+0.01, 0.001)\n",
    "density['pdf'] = norm.pdf(density['x'], mu, sigma)\n",
    "\n",
    "ms['LogReturn'].hist(bins=50, figsize=(15,8))\n",
    "plt.plot(density['x'], density['pdf'], color='green')\n",
    "plt.show()\n",
    "\n"
   ]
  },
  {
   "cell_type": "code",
   "execution_count": 17,
   "metadata": {},
   "outputs": [
    {
     "name": "stdout",
     "output_type": "stream",
     "text": [
      "The Probability is  3.01603283019e-07\n"
     ]
    }
   ],
   "source": [
    "return1 = norm.cdf(-0.07, mu, sigma)\n",
    "print('The Probability is ', return1)"
   ]
  },
  {
   "cell_type": "code",
   "execution_count": 18,
   "metadata": {},
   "outputs": [
    {
     "name": "stdout",
     "output_type": "stream",
     "text": [
      "The probability of dropping over 40% in 220 days is  0.00291236331333\n"
     ]
    }
   ],
   "source": [
    "mu220 = 220*mu\n",
    "sigma220  = (220**0.5)*sigma\n",
    "drop20 = norm.cdf(-0.4, mu220, sigma220)\n",
    "print('The probability of dropping over 40% in 220 days is ', drop20)"
   ]
  },
  {
   "cell_type": "code",
   "execution_count": 22,
   "metadata": {},
   "outputs": [
    {
     "name": "stdout",
     "output_type": "stream",
     "text": [
      "Single day value at risk  0.0103925208107\n"
     ]
    }
   ],
   "source": [
    "var = norm.ppf(0.75, mu, sigma)\n",
    "print('Single day value at risk ', var)\n"
   ]
  },
  {
   "cell_type": "code",
   "execution_count": null,
   "metadata": {
    "collapsed": true
   },
   "outputs": [],
   "source": []
  }
 ],
 "metadata": {
  "kernelspec": {
   "display_name": "Python 3",
   "language": "python",
   "name": "python3"
  },
  "language_info": {
   "codemirror_mode": {
    "name": "ipython",
    "version": 3
   },
   "file_extension": ".py",
   "mimetype": "text/x-python",
   "name": "python",
   "nbconvert_exporter": "python",
   "pygments_lexer": "ipython3",
   "version": "3.6.2"
  }
 },
 "nbformat": 4,
 "nbformat_minor": 2
}
