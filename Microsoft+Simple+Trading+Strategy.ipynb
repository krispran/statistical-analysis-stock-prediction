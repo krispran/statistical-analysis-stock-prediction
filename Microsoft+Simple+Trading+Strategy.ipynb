{
 "cells": [
  {
   "cell_type": "code",
   "execution_count": 23,
   "metadata": {
    "scrolled": true
   },
   "outputs": [
    {
     "data": {
      "text/html": [
       "<div>\n",
       "<table border=\"1\" class=\"dataframe\">\n",
       "  <thead>\n",
       "    <tr style=\"text-align: right;\">\n",
       "      <th></th>\n",
       "      <th>Open</th>\n",
       "      <th>High</th>\n",
       "      <th>Low</th>\n",
       "      <th>Close</th>\n",
       "      <th>Adj Close</th>\n",
       "      <th>Volume</th>\n",
       "      <th>MA20</th>\n",
       "      <th>MA60</th>\n",
       "    </tr>\n",
       "    <tr>\n",
       "      <th>Date</th>\n",
       "      <th></th>\n",
       "      <th></th>\n",
       "      <th></th>\n",
       "      <th></th>\n",
       "      <th></th>\n",
       "      <th></th>\n",
       "      <th></th>\n",
       "      <th></th>\n",
       "    </tr>\n",
       "  </thead>\n",
       "  <tbody>\n",
       "    <tr>\n",
       "      <th>2015-03-27</th>\n",
       "      <td>41.119999</td>\n",
       "      <td>41.430000</td>\n",
       "      <td>40.830002</td>\n",
       "      <td>40.970001</td>\n",
       "      <td>38.062588</td>\n",
       "      <td>33820300</td>\n",
       "      <td>42.264</td>\n",
       "      <td>43.675000</td>\n",
       "    </tr>\n",
       "    <tr>\n",
       "      <th>2015-03-30</th>\n",
       "      <td>41.099998</td>\n",
       "      <td>41.540001</td>\n",
       "      <td>40.910000</td>\n",
       "      <td>40.959999</td>\n",
       "      <td>38.053295</td>\n",
       "      <td>35049700</td>\n",
       "      <td>42.118</td>\n",
       "      <td>43.583500</td>\n",
       "    </tr>\n",
       "    <tr>\n",
       "      <th>2015-03-31</th>\n",
       "      <td>40.779999</td>\n",
       "      <td>41.029999</td>\n",
       "      <td>40.540001</td>\n",
       "      <td>40.660000</td>\n",
       "      <td>37.774593</td>\n",
       "      <td>34887200</td>\n",
       "      <td>41.987</td>\n",
       "      <td>43.481833</td>\n",
       "    </tr>\n",
       "    <tr>\n",
       "      <th>2015-04-01</th>\n",
       "      <td>40.599998</td>\n",
       "      <td>40.759998</td>\n",
       "      <td>40.310001</td>\n",
       "      <td>40.720001</td>\n",
       "      <td>37.830330</td>\n",
       "      <td>36752000</td>\n",
       "      <td>41.870</td>\n",
       "      <td>43.388333</td>\n",
       "    </tr>\n",
       "    <tr>\n",
       "      <th>2015-04-02</th>\n",
       "      <td>40.660000</td>\n",
       "      <td>40.740002</td>\n",
       "      <td>40.119999</td>\n",
       "      <td>40.290001</td>\n",
       "      <td>37.430840</td>\n",
       "      <td>37487500</td>\n",
       "      <td>41.729</td>\n",
       "      <td>43.299000</td>\n",
       "    </tr>\n",
       "  </tbody>\n",
       "</table>\n",
       "</div>"
      ],
      "text/plain": [
       "                 Open       High        Low      Close  Adj Close    Volume  \\\n",
       "Date                                                                          \n",
       "2015-03-27  41.119999  41.430000  40.830002  40.970001  38.062588  33820300   \n",
       "2015-03-30  41.099998  41.540001  40.910000  40.959999  38.053295  35049700   \n",
       "2015-03-31  40.779999  41.029999  40.540001  40.660000  37.774593  34887200   \n",
       "2015-04-01  40.599998  40.759998  40.310001  40.720001  37.830330  36752000   \n",
       "2015-04-02  40.660000  40.740002  40.119999  40.290001  37.430840  37487500   \n",
       "\n",
       "              MA20       MA60  \n",
       "Date                           \n",
       "2015-03-27  42.264  43.675000  \n",
       "2015-03-30  42.118  43.583500  \n",
       "2015-03-31  41.987  43.481833  \n",
       "2015-04-01  41.870  43.388333  \n",
       "2015-04-02  41.729  43.299000  "
      ]
     },
     "execution_count": 23,
     "metadata": {},
     "output_type": "execute_result"
    }
   ],
   "source": [
    "import pandas as pd\n",
    "import matplotlib.pyplot as plt\n",
    "%matplotlib inline\n",
    "\n",
    "ms = pd.DataFrame.from_csv('../data/microsoft.csv')\n",
    "ms['MA20'] = ms['Close'].rolling(20).mean()\n",
    "ms['MA60'] = ms['Close'].rolling(60).mean()\n",
    "ms = ms.dropna()\n",
    "ms.head()\n",
    "\n"
   ]
  },
  {
   "cell_type": "code",
   "execution_count": 30,
   "metadata": {},
   "outputs": [
    {
     "data": {
      "text/plain": [
       "<matplotlib.lines.Line2D at 0x7f9e10348630>"
      ]
     },
     "execution_count": 30,
     "metadata": {},
     "output_type": "execute_result"
    },
    {
     "data": {
      "image/png": "[encoded data removed]",
      "text/plain": [
       "<matplotlib.figure.Figure at 0x7f9e15335f28>"
      ]
     },
     "metadata": {},
     "output_type": "display_data"
    }
   ],
   "source": [
    "ms['Shares'] = [1 if ms.loc[ei,'MA20']>ms.loc[ei,'MA60'] else 0 for ei in ms.index]\n",
    "ms['Close1'] = ms['Close'].shift(-1)\n",
    "ms['Profit'] = [ms.loc[ei, 'Close1'] - ms.loc[ei, 'Close'] if ms.loc[ei, 'Shares']==1 else 0 for ei in ms.index]\n",
    "plt.axhline(y=0, color='red')"
   ]
  },
  {
   "cell_type": "code",
   "execution_count": 31,
   "metadata": {
    "scrolled": true
   },
   "outputs": [
    {
     "data": {
      "text/html": [
       "<div>\n",
       "<table border=\"1\" class=\"dataframe\">\n",
       "  <thead>\n",
       "    <tr style=\"text-align: right;\">\n",
       "      <th></th>\n",
       "      <th>Open</th>\n",
       "      <th>High</th>\n",
       "      <th>Low</th>\n",
       "      <th>Close</th>\n",
       "      <th>Adj Close</th>\n",
       "      <th>Volume</th>\n",
       "      <th>MA20</th>\n",
       "      <th>MA60</th>\n",
       "      <th>Shares</th>\n",
       "      <th>Close1</th>\n",
       "      <th>Profit</th>\n",
       "      <th>wealth</th>\n",
       "    </tr>\n",
       "    <tr>\n",
       "      <th>Date</th>\n",
       "      <th></th>\n",
       "      <th></th>\n",
       "      <th></th>\n",
       "      <th></th>\n",
       "      <th></th>\n",
       "      <th></th>\n",
       "      <th></th>\n",
       "      <th></th>\n",
       "      <th></th>\n",
       "      <th></th>\n",
       "      <th></th>\n",
       "      <th></th>\n",
       "    </tr>\n",
       "  </thead>\n",
       "  <tbody>\n",
       "    <tr>\n",
       "      <th>2018-01-30</th>\n",
       "      <td>93.300003</td>\n",
       "      <td>93.660004</td>\n",
       "      <td>92.099998</td>\n",
       "      <td>92.739998</td>\n",
       "      <td>92.306389</td>\n",
       "      <td>38635100</td>\n",
       "      <td>89.8285</td>\n",
       "      <td>86.110500</td>\n",
       "      <td>1</td>\n",
       "      <td>95.010002</td>\n",
       "      <td>2.270004</td>\n",
       "      <td>33.600005</td>\n",
       "    </tr>\n",
       "    <tr>\n",
       "      <th>2018-01-31</th>\n",
       "      <td>93.750000</td>\n",
       "      <td>95.400002</td>\n",
       "      <td>93.510002</td>\n",
       "      <td>95.010002</td>\n",
       "      <td>94.565781</td>\n",
       "      <td>48756300</td>\n",
       "      <td>90.2815</td>\n",
       "      <td>86.293167</td>\n",
       "      <td>1</td>\n",
       "      <td>94.260002</td>\n",
       "      <td>-0.750000</td>\n",
       "      <td>32.850005</td>\n",
       "    </tr>\n",
       "    <tr>\n",
       "      <th>2018-02-01</th>\n",
       "      <td>94.790001</td>\n",
       "      <td>96.070000</td>\n",
       "      <td>93.580002</td>\n",
       "      <td>94.260002</td>\n",
       "      <td>93.819290</td>\n",
       "      <td>47227900</td>\n",
       "      <td>90.6770</td>\n",
       "      <td>86.461833</td>\n",
       "      <td>1</td>\n",
       "      <td>91.779999</td>\n",
       "      <td>-2.480003</td>\n",
       "      <td>30.370002</td>\n",
       "    </tr>\n",
       "    <tr>\n",
       "      <th>2018-02-02</th>\n",
       "      <td>93.639999</td>\n",
       "      <td>93.970001</td>\n",
       "      <td>91.500000</td>\n",
       "      <td>91.779999</td>\n",
       "      <td>91.350883</td>\n",
       "      <td>47867800</td>\n",
       "      <td>90.9105</td>\n",
       "      <td>86.583667</td>\n",
       "      <td>1</td>\n",
       "      <td>88.000000</td>\n",
       "      <td>-3.779999</td>\n",
       "      <td>26.590003</td>\n",
       "    </tr>\n",
       "    <tr>\n",
       "      <th>2018-02-05</th>\n",
       "      <td>90.559998</td>\n",
       "      <td>93.239998</td>\n",
       "      <td>88.000000</td>\n",
       "      <td>88.000000</td>\n",
       "      <td>87.588554</td>\n",
       "      <td>51031500</td>\n",
       "      <td>90.9010</td>\n",
       "      <td>86.645833</td>\n",
       "      <td>1</td>\n",
       "      <td>NaN</td>\n",
       "      <td>NaN</td>\n",
       "      <td>NaN</td>\n",
       "    </tr>\n",
       "  </tbody>\n",
       "</table>\n",
       "</div>"
      ],
      "text/plain": [
       "                 Open       High        Low      Close  Adj Close    Volume  \\\n",
       "Date                                                                          \n",
       "2018-01-30  93.300003  93.660004  92.099998  92.739998  92.306389  38635100   \n",
       "2018-01-31  93.750000  95.400002  93.510002  95.010002  94.565781  48756300   \n",
       "2018-02-01  94.790001  96.070000  93.580002  94.260002  93.819290  47227900   \n",
       "2018-02-02  93.639999  93.970001  91.500000  91.779999  91.350883  47867800   \n",
       "2018-02-05  90.559998  93.239998  88.000000  88.000000  87.588554  51031500   \n",
       "\n",
       "               MA20       MA60  Shares     Close1    Profit     wealth  \n",
       "Date                                                                    \n",
       "2018-01-30  89.8285  86.110500       1  95.010002  2.270004  33.600005  \n",
       "2018-01-31  90.2815  86.293167       1  94.260002 -0.750000  32.850005  \n",
       "2018-02-01  90.6770  86.461833       1  91.779999 -2.480003  30.370002  \n",
       "2018-02-02  90.9105  86.583667       1  88.000000 -3.779999  26.590003  \n",
       "2018-02-05  90.9010  86.645833       1        NaN       NaN        NaN  "
      ]
     },
     "execution_count": 31,
     "metadata": {},
     "output_type": "execute_result"
    }
   ],
   "source": [
    "ms['wealth'] = ms['Profit'].cumsum()\n",
    "ms.tail()"
   ]
  },
  {
   "cell_type": "code",
   "execution_count": 35,
   "metadata": {},
   "outputs": [
    {
     "data": {
      "text/plain": [
       "<matplotlib.text.Text at 0x7f9e0deb7358>"
      ]
     },
     "execution_count": 35,
     "metadata": {},
     "output_type": "execute_result"
    },
    {
     "data": {
      "image/png": "[encoded data removed]",
      "text/plain": [
       "<matplotlib.figure.Figure at 0x7f9e12ab5780>"
      ]
     },
     "metadata": {},
     "output_type": "display_data"
    }
   ],
   "source": [
    "ms['wealth'].plot()\n",
    "plt.title('The total amount of money you win is {}'.format(ms.loc[ms.index[-2], 'wealth']))"
   ]
  },
  {
   "cell_type": "markdown",
   "metadata": {},
   "source": []
  }
 ],
 "metadata": {
  "kernelspec": {
   "display_name": "Python 3",
   "language": "python",
   "name": "python3"
  },
  "language_info": {
   "codemirror_mode": {
    "name": "ipython",
    "version": 3
   },
   "file_extension": ".py",
   "mimetype": "text/x-python",
   "name": "python",
   "nbconvert_exporter": "python",
   "pygments_lexer": "ipython3",
   "version": "3.6.2"
  }
 },
 "nbformat": 4,
 "nbformat_minor": 2
}
